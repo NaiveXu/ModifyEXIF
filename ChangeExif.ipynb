{
 "cells": [
  {
   "cell_type": "markdown",
   "metadata": {},
   "source": [
    "i = Image(r\"D:\\OneDrive - stu.xidian.edu.cn\\图片\\20190515_180216304_iOS.jpg\")  \n",
    "i.read_exif()  \n",
    "i.modify_exif({'Exif.Photo.DateTimeOriginal': '2019:05:15 18:00:17'})  \n",
    "i.read_exif()  "
   ]
  },
  {
   "cell_type": "markdown",
   "metadata": {},
   "source": [
    "{'Exif.Image.DateTime': '2019:05:15 18:02:16',  \n",
    " 'Exif.Image.ExifTag': '58',  \n",
    " 'Exif.Photo.DateTimeOriginal': '2019:05:15 18:02:16',  \n",
    " 'Exif.Thumbnail.JPEGInterchangeFormat': '126',  \n",
    " 'Exif.Thumbnail.JPEGInterchangeFormatLength': '0'}"
   ]
  },
  {
   "cell_type": "code",
   "execution_count": 7,
   "metadata": {},
   "outputs": [],
   "source": [
    "# coding = utf-8\n",
    "from pyexiv2 import Image\n",
    "import os\n",
    "import re\n",
    "import time\n",
    "import os\n",
    "\n",
    "\n",
    "# 时间范式\n",
    "time1 = re.compile(r\"15\\d{11}\")  # 注意后三位是多余的\n",
    "time2 = re.compile(r\"20\\d{6}_\\d{6}\")\n",
    "time3 = re.compile(r\"IMG_20\\d{6}_\\d{6}\")\n",
    "time4 = re.compile(r\"mmexport20\\d{12}\")\n",
    "time5 = re.compile(r\"(S|s)creenshot_20\\d{6}-\\d{6}\")\n",
    "time6 = re.compile(r\"wx_camera_15\\d{11}\")  # 注意后三位是多余的\n",
    "TIME_PATTERNS = [time1, time2, time3, time4, time5, time6]"
   ]
  },
  {
   "cell_type": "code",
   "execution_count": 14,
   "metadata": {},
   "outputs": [],
   "source": [
    "class my_extractor(Image):\n",
    "    def __init__(self, file_name):\n",
    "        self.file_name = file_name\n",
    "        self.image = Image(file_name)\n",
    "        self.exif = self.image.read_exif()\n",
    "\n",
    "    # 2个从文件名提取原始时间的函数\n",
    "    def extract_time_from_datetime_of(file_name):\n",
    "        \"\"\"从file_name中直接提取时间信息，转化成时间字符串形式返回\"\"\"\n",
    "        time_example = r\"(20\\d\\d)(\\d\\d)(\\d\\d)(?:_|-|)(\\d\\d)(\\d\\d)(\\d\\d)\"\n",
    "        time_raw = re.findall(time_example, file_name)[0]\n",
    "        date_time = time_raw[0] + \":\"\n",
    "        for i in range(1, 6):\n",
    "            date_time += time_raw[i]\n",
    "            if i == 2:\n",
    "                date_time += \" \"\n",
    "            elif i == 5:\n",
    "                pass\n",
    "            else:\n",
    "                date_time += \":\"\n",
    "        return date_time\n",
    "\n",
    "    def extract_time_from_timestrip_of(file_name):\n",
    "        \"\"\"\n",
    "        从file_name中提取出时间戳信息,然后转化成时间字符串形式返回\n",
    "        \n",
    "        \"\"\"\n",
    "        time_example = r\"15\\d{11}\"\n",
    "        time_splited = int(re.findall(time_example, file_name)[0][:-3])\n",
    "        if time_splited <= now_time:\n",
    "            # 转化为'2019:05:15 18:00:17'格式\n",
    "            date_time = time.strftime(\"%Y:%m:%d %H:%M:%S\", time.localtime(time_splited))\n",
    "            return date_time\n",
    "        else:\n",
    "            print(\"Wrong input you dumbass!\")\n",
    "            return None\n",
    "\n",
    "    def get_time_from_FileName_Of(self, TIME_PATTERNS):\n",
    "        \"\"\"\n",
    "        根据图片的名字获取图片本来的exif时间\n",
    "        time_Patterns:list, 元素为时间模式，来自于正则表达式\n",
    "        image_file:str  为图片名字，例如\"20190515_180216304_iOS.jpg\"\n",
    "        可以用来修改的名字有\n",
    "        \"1513859190222.jpeg\"\n",
    "        \"20150829_170328000.png\"\n",
    "        \"IMG_20190520_120207.jpg\"\n",
    "        \"mmexport20171117093617.jpg\"\n",
    "        \"Screenshot_20190313-214413_WeChat.jpg\"\n",
    "        \"wx_camera_1527957631631.jpg\"\n",
    "        \"\"\"\n",
    "        now_time = time.time()\n",
    "        # 开始提取操作\n",
    "        isThisFileHasBeenExtracted = False  # 标记当前文件未被提取\n",
    "        # 拿6种模式来匹配文件名\n",
    "        for time_rePattern in TIME_PATTERNS:\n",
    "            if not isThisFileHasBeenExtracted:\n",
    "                # 当这个文件还没有被提取的时间的时候再往下走\n",
    "                if re.match(time_rePattern, self.file_name):\n",
    "                    self.date_time = (\n",
    "                        extract_time_from_timestrip_of(self.file_name)\n",
    "                        if (time_rePattern == time1 or time_rePattern == time6)\n",
    "                        else extract_time_from_datetime_of(self.file_name)\n",
    "                    )\n",
    "                    isThisFileHasBeenExtracted = True\n",
    "                    break  # 匹配到了就直接跳出循环就好\n",
    "                else:  # 如果没有匹配，那么就进行下一次循环\n",
    "                    continue\n",
    "        if isThisFileHasBeenExtracted:\n",
    "            # 如果匹配到了那么直接返回\n",
    "            return self.date_time\n",
    "        # print(\"Time of {} is {}\".format(file_name, date_time))\n",
    "        else:\n",
    "            # 没有匹配到那就开骂吧\n",
    "            print(\"Nothing Happened to {}. You such a DUMBASS.\".format(self.file_name))\n",
    "            return None\n",
    "\n",
    "    def need_modify(self):\n",
    "        \"\"\"\n",
    "        判断这个图片的EXIF信息是否需要修改，如果不需要的话就直接滚犊子吧,如果需要在进行modify_exit的操作.\n",
    "        要传入Image.read_exif()这个词典，然后对比时间\n",
    "        \"\"\"\n",
    "        # 首先看看是否存在创建时间，如果不存在直接就要搞\n",
    "        if \"Exif.Photo.DateTimeOriginal\" in self.exif.keys():\n",
    "            # 存在创建时间的话看看和我们需要对比的时间是否一致，不一致也得搞\n",
    "            if self.exif[\n",
    "                \"Exif.Photo.DateTimeOriginal\"\n",
    "            ] == self.get_time_from_FileName_Of(TIME_PATTERNS):\n",
    "                # 相等的话说明不用改,返回个false\n",
    "                return False\n",
    "        else:\n",
    "            # 但凡有一点不让人满意那么就需要修改\n",
    "            return True\n",
    "\n",
    "    def change_exif(self):\n",
    "        \"\"\"\n",
    "        image_file为图片名字，例如\"20190515_180216304_iOS.jpg\"\n",
    "        注意，应该拍摄日期和创建日期，这2个都要修改的！！！！！！\n",
    "        如果本身有这些信息的话，那么就不需要修改\n",
    "        time应为需要修改成的时间，严格按照如下格式'2019:05:15 18:00:17'。如果不是就直接报错。\n",
    "        没有任何返回值，直接修改。\"\"\"\n",
    "        if self.need_modify():\n",
    "            self.modify_exif({\"Exif.Photo.DateTimeOriginal\": self.date_time})\n",
    "            return print(\n",
    "                \"Time of {} has been changed to {}\".format(\n",
    "                    self.file_name, self.date_time\n",
    "                )\n",
    "            )\n",
    "        else:\n",
    "            return print(\"Error! Can't modify time of {}\".format(self.file_name))"
   ]
  },
  {
   "cell_type": "code",
   "execution_count": 9,
   "metadata": {},
   "outputs": [
    {
     "ename": "TypeError",
     "evalue": "'str' object is not callable",
     "output_type": "error",
     "traceback": [
      "\u001b[1;31m---------------------------------------------------------------------------\u001b[0m",
      "\u001b[1;31mTypeError\u001b[0m                                 Traceback (most recent call last)",
      "\u001b[1;32m<ipython-input-9-8c6a131940df>\u001b[0m in \u001b[0;36m<module>\u001b[1;34m\u001b[0m\n\u001b[0;32m      1\u001b[0m \u001b[1;32mimport\u001b[0m \u001b[0mos\u001b[0m\u001b[1;33m\u001b[0m\u001b[1;33m\u001b[0m\u001b[0m\n\u001b[1;32m----> 2\u001b[1;33m \u001b[0mos\u001b[0m\u001b[1;33m.\u001b[0m\u001b[0mpath\u001b[0m\u001b[1;33m.\u001b[0m\u001b[0mcurdir\u001b[0m\u001b[1;33m(\u001b[0m\u001b[1;33m)\u001b[0m\u001b[1;33m\u001b[0m\u001b[1;33m\u001b[0m\u001b[0m\n\u001b[0m",
      "\u001b[1;31mTypeError\u001b[0m: 'str' object is not callable"
     ]
    }
   ],
   "source": []
  },
  {
   "cell_type": "code",
   "execution_count": 12,
   "metadata": {},
   "outputs": [
    {
     "name": "stdout",
     "output_type": "stream",
     "text": [
      "d:\\OneDrive\\ModifyEXIF\n",
      "D:\\OneDrive - stu.xidian.edu.cn\\图片\n"
     ]
    }
   ],
   "source": [
    "print(os.getcwd())\n",
    "os.chdir(r\"D:\\OneDrive - stu.xidian.edu.cn\\图片\")\n",
    "print(os.getcwd())"
   ]
  },
  {
   "cell_type": "code",
   "execution_count": 15,
   "metadata": {},
   "outputs": [
    {
     "ename": "AttributeError",
     "evalue": "'my_extractor' object has no attribute 'date_time'",
     "output_type": "error",
     "traceback": [
      "\u001b[1;31m---------------------------------------------------------------------------\u001b[0m",
      "\u001b[1;31mAttributeError\u001b[0m                            Traceback (most recent call last)",
      "\u001b[1;32m<ipython-input-15-e86a5dec7e11>\u001b[0m in \u001b[0;36m<module>\u001b[1;34m\u001b[0m\n\u001b[0;32m      1\u001b[0m \u001b[0mtest_file\u001b[0m \u001b[1;33m=\u001b[0m \u001b[1;34m\"20190527_180319.jpg\"\u001b[0m\u001b[1;33m\u001b[0m\u001b[1;33m\u001b[0m\u001b[0m\n\u001b[0;32m      2\u001b[0m \u001b[0mtest\u001b[0m \u001b[1;33m=\u001b[0m \u001b[0mmy_extractor\u001b[0m\u001b[1;33m(\u001b[0m\u001b[0mtest_file\u001b[0m\u001b[1;33m)\u001b[0m\u001b[1;33m\u001b[0m\u001b[1;33m\u001b[0m\u001b[0m\n\u001b[1;32m----> 3\u001b[1;33m \u001b[0mtest\u001b[0m\u001b[1;33m.\u001b[0m\u001b[0mchange_exif\u001b[0m\u001b[1;33m(\u001b[0m\u001b[1;33m)\u001b[0m\u001b[1;33m\u001b[0m\u001b[1;33m\u001b[0m\u001b[0m\n\u001b[0m",
      "\u001b[1;32m<ipython-input-14-b53e53eda82d>\u001b[0m in \u001b[0;36mchange_exif\u001b[1;34m(self)\u001b[0m\n\u001b[0;32m     98\u001b[0m         没有任何返回值，直接修改。'''\n\u001b[0;32m     99\u001b[0m         \u001b[1;32mif\u001b[0m \u001b[0mself\u001b[0m\u001b[1;33m.\u001b[0m\u001b[0mneed_modify\u001b[0m\u001b[1;33m(\u001b[0m\u001b[1;33m)\u001b[0m\u001b[1;33m:\u001b[0m\u001b[1;33m\u001b[0m\u001b[1;33m\u001b[0m\u001b[0m\n\u001b[1;32m--> 100\u001b[1;33m             \u001b[0mself\u001b[0m\u001b[1;33m.\u001b[0m\u001b[0mmodify_exif\u001b[0m\u001b[1;33m(\u001b[0m\u001b[1;33m{\u001b[0m\u001b[1;34m'Exif.Photo.DateTimeOriginal'\u001b[0m\u001b[1;33m:\u001b[0m\u001b[0mself\u001b[0m\u001b[1;33m.\u001b[0m\u001b[0mdate_time\u001b[0m\u001b[1;33m}\u001b[0m\u001b[1;33m)\u001b[0m\u001b[1;33m\u001b[0m\u001b[1;33m\u001b[0m\u001b[0m\n\u001b[0m\u001b[0;32m    101\u001b[0m             \u001b[1;32mreturn\u001b[0m \u001b[0mprint\u001b[0m\u001b[1;33m(\u001b[0m\u001b[1;34m\"Time of {} has been changed to {}\"\u001b[0m\u001b[1;33m.\u001b[0m\u001b[0mformat\u001b[0m\u001b[1;33m(\u001b[0m\u001b[0mself\u001b[0m\u001b[1;33m.\u001b[0m\u001b[0mfile_name\u001b[0m\u001b[1;33m,\u001b[0m \u001b[0mself\u001b[0m\u001b[1;33m.\u001b[0m\u001b[0mdate_time\u001b[0m\u001b[1;33m)\u001b[0m\u001b[1;33m)\u001b[0m\u001b[1;33m\u001b[0m\u001b[1;33m\u001b[0m\u001b[0m\n\u001b[0;32m    102\u001b[0m         \u001b[1;32melse\u001b[0m\u001b[1;33m:\u001b[0m\u001b[1;33m\u001b[0m\u001b[1;33m\u001b[0m\u001b[0m\n",
      "\u001b[1;31mAttributeError\u001b[0m: 'my_extractor' object has no attribute 'date_time'"
     ]
    }
   ],
   "source": [
    "test_file = \"20190527_180319.jpg\"\n",
    "test = my_extractor(test_file)\n",
    "test.change_exif()"
   ]
  },
  {
   "cell_type": "code",
   "execution_count": 19,
   "metadata": {},
   "outputs": [
    {
     "ename": "TypeError",
     "evalue": "first argument must be string or compiled pattern",
     "output_type": "error",
     "traceback": [
      "\u001b[1;31m---------------------------------------------------------------------------\u001b[0m",
      "\u001b[1;31mTypeError\u001b[0m                                 Traceback (most recent call last)",
      "\u001b[1;32m<ipython-input-19-b95ba1c414af>\u001b[0m in \u001b[0;36m<module>\u001b[1;34m\u001b[0m\n\u001b[1;32m----> 1\u001b[1;33m \u001b[0mtest\u001b[0m\u001b[1;33m.\u001b[0m\u001b[0mget_time_from_FileName_Of\u001b[0m\u001b[1;33m(\u001b[0m\u001b[0mTIME_PATTERNS\u001b[0m\u001b[1;33m)\u001b[0m\u001b[1;33m\u001b[0m\u001b[1;33m\u001b[0m\u001b[0m\n\u001b[0m",
      "\u001b[1;32m<ipython-input-14-b53e53eda82d>\u001b[0m in \u001b[0;36mget_time_from_FileName_Of\u001b[1;34m(self, TIME_PATTERNS)\u001b[0m\n\u001b[0;32m     56\u001b[0m             \u001b[1;32mif\u001b[0m \u001b[1;32mnot\u001b[0m \u001b[0misThisFileHasBeenExtracted\u001b[0m\u001b[1;33m:\u001b[0m\u001b[1;33m\u001b[0m\u001b[1;33m\u001b[0m\u001b[0m\n\u001b[0;32m     57\u001b[0m                 \u001b[1;31m# 当这个文件还没有被提取的时间的时候再往下走\u001b[0m\u001b[1;33m\u001b[0m\u001b[1;33m\u001b[0m\u001b[1;33m\u001b[0m\u001b[0m\n\u001b[1;32m---> 58\u001b[1;33m                 \u001b[1;32mif\u001b[0m \u001b[0mre\u001b[0m\u001b[1;33m.\u001b[0m\u001b[0mmatch\u001b[0m\u001b[1;33m(\u001b[0m\u001b[0mtime_rePattern\u001b[0m\u001b[1;33m,\u001b[0m \u001b[0mself\u001b[0m\u001b[1;33m.\u001b[0m\u001b[0mfile_name\u001b[0m\u001b[1;33m)\u001b[0m\u001b[1;33m:\u001b[0m\u001b[1;33m\u001b[0m\u001b[1;33m\u001b[0m\u001b[0m\n\u001b[0m\u001b[0;32m     59\u001b[0m                     self.date_time = extract_time_from_timestrip_of(\n\u001b[0;32m     60\u001b[0m                         \u001b[0mself\u001b[0m\u001b[1;33m.\u001b[0m\u001b[0mfile_name\u001b[0m\u001b[1;33m)\u001b[0m \u001b[1;32mif\u001b[0m \u001b[1;33m(\u001b[0m\u001b[1;33m\u001b[0m\u001b[1;33m\u001b[0m\u001b[0m\n",
      "\u001b[1;32me:\\Anaconda3\\lib\\re.py\u001b[0m in \u001b[0;36mmatch\u001b[1;34m(pattern, string, flags)\u001b[0m\n\u001b[0;32m    171\u001b[0m     \"\"\"Try to apply the pattern at the start of the string, returning\n\u001b[0;32m    172\u001b[0m     a Match object, or None if no match was found.\"\"\"\n\u001b[1;32m--> 173\u001b[1;33m     \u001b[1;32mreturn\u001b[0m \u001b[0m_compile\u001b[0m\u001b[1;33m(\u001b[0m\u001b[0mpattern\u001b[0m\u001b[1;33m,\u001b[0m \u001b[0mflags\u001b[0m\u001b[1;33m)\u001b[0m\u001b[1;33m.\u001b[0m\u001b[0mmatch\u001b[0m\u001b[1;33m(\u001b[0m\u001b[0mstring\u001b[0m\u001b[1;33m)\u001b[0m\u001b[1;33m\u001b[0m\u001b[1;33m\u001b[0m\u001b[0m\n\u001b[0m\u001b[0;32m    174\u001b[0m \u001b[1;33m\u001b[0m\u001b[0m\n\u001b[0;32m    175\u001b[0m \u001b[1;32mdef\u001b[0m \u001b[0mfullmatch\u001b[0m\u001b[1;33m(\u001b[0m\u001b[0mpattern\u001b[0m\u001b[1;33m,\u001b[0m \u001b[0mstring\u001b[0m\u001b[1;33m,\u001b[0m \u001b[0mflags\u001b[0m\u001b[1;33m=\u001b[0m\u001b[1;36m0\u001b[0m\u001b[1;33m)\u001b[0m\u001b[1;33m:\u001b[0m\u001b[1;33m\u001b[0m\u001b[1;33m\u001b[0m\u001b[0m\n",
      "\u001b[1;32me:\\Anaconda3\\lib\\re.py\u001b[0m in \u001b[0;36m_compile\u001b[1;34m(pattern, flags)\u001b[0m\n\u001b[0;32m    283\u001b[0m         \u001b[1;32mreturn\u001b[0m \u001b[0mpattern\u001b[0m\u001b[1;33m\u001b[0m\u001b[1;33m\u001b[0m\u001b[0m\n\u001b[0;32m    284\u001b[0m     \u001b[1;32mif\u001b[0m \u001b[1;32mnot\u001b[0m \u001b[0msre_compile\u001b[0m\u001b[1;33m.\u001b[0m\u001b[0misstring\u001b[0m\u001b[1;33m(\u001b[0m\u001b[0mpattern\u001b[0m\u001b[1;33m)\u001b[0m\u001b[1;33m:\u001b[0m\u001b[1;33m\u001b[0m\u001b[1;33m\u001b[0m\u001b[0m\n\u001b[1;32m--> 285\u001b[1;33m         \u001b[1;32mraise\u001b[0m \u001b[0mTypeError\u001b[0m\u001b[1;33m(\u001b[0m\u001b[1;34m\"first argument must be string or compiled pattern\"\u001b[0m\u001b[1;33m)\u001b[0m\u001b[1;33m\u001b[0m\u001b[1;33m\u001b[0m\u001b[0m\n\u001b[0m\u001b[0;32m    286\u001b[0m     \u001b[0mp\u001b[0m \u001b[1;33m=\u001b[0m \u001b[0msre_compile\u001b[0m\u001b[1;33m.\u001b[0m\u001b[0mcompile\u001b[0m\u001b[1;33m(\u001b[0m\u001b[0mpattern\u001b[0m\u001b[1;33m,\u001b[0m \u001b[0mflags\u001b[0m\u001b[1;33m)\u001b[0m\u001b[1;33m\u001b[0m\u001b[1;33m\u001b[0m\u001b[0m\n\u001b[0;32m    287\u001b[0m     \u001b[1;32mif\u001b[0m \u001b[1;32mnot\u001b[0m \u001b[1;33m(\u001b[0m\u001b[0mflags\u001b[0m \u001b[1;33m&\u001b[0m \u001b[0mDEBUG\u001b[0m\u001b[1;33m)\u001b[0m\u001b[1;33m:\u001b[0m\u001b[1;33m\u001b[0m\u001b[1;33m\u001b[0m\u001b[0m\n",
      "\u001b[1;31mTypeError\u001b[0m: first argument must be string or compiled pattern"
     ]
    }
   ],
   "source": [
    "test.get_time_from_FileName_Of(TIME_PATTERNS)"
   ]
  },
  {
   "cell_type": "code",
   "execution_count": null,
   "metadata": {},
   "outputs": [],
   "source": [
    "\n",
    "\n",
    "path = \"D:/OneDrive - stu.xidian.edu.cn/图片\" #文件夹目录\n",
    "root_files= os.listdir(path)\n",
    "for name in root_files:#遍历文件夹\n",
    "    #如果是文件，那就直接修改\n",
    "    "
   ]
  },
  {
   "cell_type": "code",
   "execution_count": null,
   "metadata": {},
   "outputs": [],
   "source": [
    "path = \"D:/Python34/news\"  # 文件夹目录\n",
    "files = os.listdir(path)  # 得到文件夹下的所有文件名称\n",
    "s = []\n",
    "for file in files:  # 遍历文件夹\n",
    "    if not os.path.isdir(file):  # 判断是否是文件夹，不是文件夹才打开\n",
    "        f = open(path + \"/\" + file)\n",
    "        # 打开文件\n",
    "        iter_f = iter(f)\n",
    "        # 创建迭代器\n",
    "        str = \"\"\n",
    "        for line in iter_f:  # 遍历文件，一行行遍历，读取文本\n",
    "            str = str + line\n",
    "        s.append(str)  # 每个文件的文本存到list中\n",
    "print(s)  # 打印结果"
   ]
  },
  {
   "cell_type": "code",
   "execution_count": null,
   "metadata": {},
   "outputs": [],
   "source": [
    "file = "
   ]
  }
 ],
 "metadata": {
  "file_extension": ".py",
  "kernelspec": {
   "display_name": "Python 3",
   "language": "python",
   "name": "python3"
  },
  "language_info": {
   "codemirror_mode": {
    "name": "ipython",
    "version": 3
   },
   "file_extension": ".py",
   "mimetype": "text/x-python",
   "name": "python",
   "nbconvert_exporter": "python",
   "pygments_lexer": "ipython3",
   "version": "3.7.5"
  },
  "mimetype": "text/x-python",
  "name": "python",
  "npconvert_exporter": "python",
  "pygments_lexer": "ipython3",
  "version": 3,
  "widgets": {
   "application/vnd.jupyter.widget-state+json": {
    "state": {},
    "version_major": 2,
    "version_minor": 0
   }
  }
 },
 "nbformat": 4,
 "nbformat_minor": 4
}
